{
 "cells": [
  {
   "cell_type": "code",
   "execution_count": 3,
   "id": "0bdf1835",
   "metadata": {},
   "outputs": [
    {
     "name": "stdout",
     "output_type": "stream",
     "text": [
      "Enter the Number: 6\n",
      "Factorial\n",
      "720\n"
     ]
    }
   ],
   "source": [
    "def factorial(n):\n",
    "    if(n<=1):\n",
    "        return 1\n",
    "    else:\n",
    "        return (n*factorial(n-1))\n",
    "n=int(input(\"Enter the Number: \"))\n",
    "print(\"Factorial\")\n",
    "print(factorial(n))"
   ]
  },
  {
   "cell_type": "code",
   "execution_count": 8,
   "id": "9d6ee8b5",
   "metadata": {},
   "outputs": [
    {
     "name": "stdout",
     "output_type": "stream",
     "text": [
      "Move Disk 1 From Rod A To Rod B\n",
      "Move Disk 2 From Rod A To Rod C\n",
      "Move Disk 1 From Rod B To Rod C\n",
      "Move Disk 3 From Rod A To Rod B\n",
      "Move Disk 1 From Rod C To Rod A\n",
      "Move Disk 2 From Rod C To Rod B\n",
      "Move Disk 1 From Rod A To Rod B\n",
      "Move Disk 4 From Rod A To Rod C\n",
      "Move Disk 1 From Rod B To Rod C\n",
      "Move Disk 2 From Rod B To Rod A\n",
      "Move Disk 1 From Rod C To Rod A\n",
      "Move Disk 3 From Rod B To Rod C\n",
      "Move Disk 1 From Rod A To Rod B\n",
      "Move Disk 2 From Rod A To Rod C\n",
      "Move Disk 1 From Rod B To Rod C\n"
     ]
    }
   ],
   "source": [
    "def TowerOfHanoi(n, from_rod, to_rod, aux_rod):\n",
    "    if n==0:\n",
    "        return\n",
    "    TowerOfHanoi(n-1, from_rod, aux_rod, to_rod)\n",
    "    print(\"Move Disk\",n,\"From Rod\",from_rod ,\"To Rod\", to_rod)\n",
    "    TowerOfHanoi(n-1,aux_rod,to_rod,from_rod)\n",
    "n = 4\n",
    "TowerOfHanoi(n,'A','C','B')"
   ]
  },
  {
   "cell_type": "code",
   "execution_count": null,
   "id": "33ceca5e",
   "metadata": {},
   "outputs": [],
   "source": []
  }
 ],
 "metadata": {
  "kernelspec": {
   "display_name": "Python 3 (ipykernel)",
   "language": "python",
   "name": "python3"
  },
  "language_info": {
   "codemirror_mode": {
    "name": "ipython",
    "version": 3
   },
   "file_extension": ".py",
   "mimetype": "text/x-python",
   "name": "python",
   "nbconvert_exporter": "python",
   "pygments_lexer": "ipython3",
   "version": "3.11.5"
  }
 },
 "nbformat": 4,
 "nbformat_minor": 5
}
