{
 "cells": [
  {
   "cell_type": "code",
   "execution_count": 1,
   "id": "7d0c0c59",
   "metadata": {},
   "outputs": [
    {
     "name": "stdout",
     "output_type": "stream",
     "text": [
      "The Length of Queue:  5\n"
     ]
    }
   ],
   "source": [
    "class Queue:\n",
    "    def __init__(self):\n",
    "        self.Queue=list()\n",
    "    def add_element(self,val):\n",
    "        if val not in self.Queue:\n",
    "            self.Queue.insert(0,val)\n",
    "            return False\n",
    "    def size(self):\n",
    "        return len(self.Queue)\n",
    "TheQueue=Queue()\n",
    "TheQueue.add_element(\"Python\")\n",
    "TheQueue.add_element(\"Java\")\n",
    "TheQueue.add_element(\"SQL\")\n",
    "TheQueue.add_element(\"django\")\n",
    "TheQueue.add_element(\"PHP\")\n",
    "print(\"The Length of Queue: \",TheQueue.size())"
   ]
  },
  {
   "cell_type": "code",
   "execution_count": 4,
   "id": "d7cc57c0",
   "metadata": {},
   "outputs": [
    {
     "name": "stdout",
     "output_type": "stream",
     "text": [
      "1\n",
      "2\n",
      "3\n",
      "4\n",
      "5\n",
      "6\n"
     ]
    }
   ],
   "source": [
    "from queue import PriorityQueue\n",
    "q=PriorityQueue()\n",
    "q.put(4)\n",
    "q.put(3)\n",
    "q.put(6)\n",
    "q.put(1)\n",
    "q.put(2)\n",
    "q.put(5)\n",
    "while not q.empty():\n",
    "    next_item=q.get()\n",
    "    print(next_item)"
   ]
  }
 ],
 "metadata": {
  "kernelspec": {
   "display_name": "Python 3 (ipykernel)",
   "language": "python",
   "name": "python3"
  },
  "language_info": {
   "codemirror_mode": {
    "name": "ipython",
    "version": 3
   },
   "file_extension": ".py",
   "mimetype": "text/x-python",
   "name": "python",
   "nbconvert_exporter": "python",
   "pygments_lexer": "ipython3",
   "version": "3.11.5"
  }
 },
 "nbformat": 4,
 "nbformat_minor": 5
}
