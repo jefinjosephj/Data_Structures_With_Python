{
 "cells": [
  {
   "cell_type": "code",
   "execution_count": null,
   "id": "17d71aa3",
   "metadata": {},
   "outputs": [],
   "source": [
    "!pip install binarytree"
   ]
  },
  {
   "cell_type": "code",
   "execution_count": 1,
   "id": "80664f8e",
   "metadata": {},
   "outputs": [
    {
     "name": "stdout",
     "output_type": "stream",
     "text": [
      "Binary Tree from List: \n",
      " \n",
      "    ___3\n",
      "   /    \\\n",
      "  6      8\n",
      " / \\      \\\n",
      "2   11     13\n",
      "\n",
      "\n",
      "List from Binary Tree:  [3, 6, 8, 2, 11, None, 13]\n"
     ]
    }
   ],
   "source": [
    "from binarytree import build\n",
    "nodes=[3,6,8,2,11,None,13]\n",
    "binary_tree=build(nodes)\n",
    "print(\"Binary Tree from List: \\n\",binary_tree)\n",
    "print(\"\\nList from Binary Tree: \",binary_tree.values)"
   ]
  }
 ],
 "metadata": {
  "kernelspec": {
   "display_name": "Python 3 (ipykernel)",
   "language": "python",
   "name": "python3"
  },
  "language_info": {
   "codemirror_mode": {
    "name": "ipython",
    "version": 3
   },
   "file_extension": ".py",
   "mimetype": "text/x-python",
   "name": "python",
   "nbconvert_exporter": "python",
   "pygments_lexer": "ipython3",
   "version": "3.11.5"
  }
 },
 "nbformat": 4,
 "nbformat_minor": 5
}
