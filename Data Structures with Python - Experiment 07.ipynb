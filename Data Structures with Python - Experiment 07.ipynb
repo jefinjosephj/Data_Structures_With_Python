{
 "cells": [
  {
   "cell_type": "code",
   "execution_count": 6,
   "id": "423009a8",
   "metadata": {},
   "outputs": [
    {
     "name": "stdout",
     "output_type": "stream",
     "text": [
      "62\n",
      "8\n",
      "12\n"
     ]
    }
   ],
   "source": [
    "#DLL(Doubly Linked List)\n",
    "class Node:\n",
    "    def __init__(self,data):\n",
    "        self.data=data\n",
    "        self.next=None\n",
    "        self.prev=None\n",
    "class doublyll:\n",
    "    def __init__(self):\n",
    "        self.head=None\n",
    "    def push(self,Newval):\n",
    "        NewNode=Node(Newval)\n",
    "        NewNode.next=self.head\n",
    "        if self.head is not None:\n",
    "            self.head.prev=NewNode\n",
    "        self.head=NewNode\n",
    "    def ListPrint(self,Node):\n",
    "        while(Node is not None):\n",
    "            print(Node.data)\n",
    "            last=Node=Node.next\n",
    "dlist=doublyll()\n",
    "dlist.push(12)\n",
    "dlist.push(8)\n",
    "dlist.push(62)\n",
    "dlist.ListPrint(dlist.head)"
   ]
  },
  {
   "cell_type": "code",
   "execution_count": 16,
   "id": "83c7ceb6",
   "metadata": {},
   "outputs": [
    {
     "name": "stdout",
     "output_type": "stream",
     "text": [
      "The Circular Doubly Linked List Has Been Created\n",
      "[5]\n"
     ]
    }
   ],
   "source": [
    "#CircularDoubly Linked List\n",
    "class Node:\n",
    "    def __init__(self, value=None):\n",
    "        self.value=value\n",
    "        self.next=None\n",
    "        self.prev=None\n",
    "\n",
    "class CircularDoublyLinkedList:\n",
    "    def __init__(self):\n",
    "        self.head=None\n",
    "        self.tail=None\n",
    "\n",
    "    def createCDLL(self, value):\n",
    "        new_node=Node(value)\n",
    "        new_node.next=new_node\n",
    "        new_node.prev=new_node\n",
    "        self.head=new_node\n",
    "        self.tail=new_node\n",
    "        print(\"The Circular Doubly Linked List Has Been Created\")\n",
    "\n",
    "    def __iter__(self):\n",
    "        node=self.head\n",
    "        while node:\n",
    "            yield node\n",
    "            node=node.next\n",
    "            if node==self.tail.next:\n",
    "                break\n",
    "\n",
    "circulardoublyLL=CircularDoublyLinkedList()\n",
    "circulardoublyLL.createCDLL(5)\n",
    "print([node.value for node in circulardoublyLL])"
   ]
  },
  {
   "cell_type": "code",
   "execution_count": null,
   "id": "5f1fc4f4",
   "metadata": {},
   "outputs": [],
   "source": []
  }
 ],
 "metadata": {
  "kernelspec": {
   "display_name": "Python 3 (ipykernel)",
   "language": "python",
   "name": "python3"
  },
  "language_info": {
   "codemirror_mode": {
    "name": "ipython",
    "version": 3
   },
   "file_extension": ".py",
   "mimetype": "text/x-python",
   "name": "python",
   "nbconvert_exporter": "python",
   "pygments_lexer": "ipython3",
   "version": "3.11.5"
  }
 },
 "nbformat": 4,
 "nbformat_minor": 5
}
