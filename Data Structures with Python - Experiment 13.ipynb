{
 "cells": [
  {
   "cell_type": "code",
   "execution_count": 2,
   "id": "cd64f1a5",
   "metadata": {},
   "outputs": [
    {
     "name": "stdout",
     "output_type": "stream",
     "text": [
      "The Integer Hash Value is: 4\n",
      "The String Hash Value is: -3511918045016834594\n",
      "The Float Hash Value is: 1291272085159665688\n"
     ]
    }
   ],
   "source": [
    "int_val=4\n",
    "str_val='Python'\n",
    "flt_val=24.56\n",
    "print(\"The Integer Hash Value is: \"+str(hash(int_val)))\n",
    "print(\"The String Hash Value is: \"+str(hash(str_val)))\n",
    "print(\"The Float Hash Value is: \"+str(hash(flt_val)))"
   ]
  }
 ],
 "metadata": {
  "kernelspec": {
   "display_name": "Python 3 (ipykernel)",
   "language": "python",
   "name": "python3"
  },
  "language_info": {
   "codemirror_mode": {
    "name": "ipython",
    "version": 3
   },
   "file_extension": ".py",
   "mimetype": "text/x-python",
   "name": "python",
   "nbconvert_exporter": "python",
   "pygments_lexer": "ipython3",
   "version": "3.11.5"
  }
 },
 "nbformat": 4,
 "nbformat_minor": 5
}
