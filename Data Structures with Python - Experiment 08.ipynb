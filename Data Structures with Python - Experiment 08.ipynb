{
 "cells": [
  {
   "cell_type": "code",
   "execution_count": 2,
   "id": "faeae842",
   "metadata": {},
   "outputs": [
    {
     "name": "stdout",
     "output_type": "stream",
     "text": [
      "Pushed Item: 1\n",
      "Pushed Item: 2\n",
      "Pushed Item: 3\n",
      "Pushed Item: 4\n",
      "['1', '2', '3', '4']\n"
     ]
    }
   ],
   "source": [
    "def create_stack():\n",
    "    stack=[]\n",
    "    return stack\n",
    "def check_empty(stack):\n",
    "    return len(stack)==0\n",
    "def push(stack,item):\n",
    "    stack.append(item)\n",
    "    print(\"Pushed Item: \"+item)\n",
    "stack=create_stack()\n",
    "push(stack,str(1))\n",
    "push(stack,str(2))\n",
    "push(stack,str(3))\n",
    "push(stack,str(4))\n",
    "print(stack)"
   ]
  },
  {
   "cell_type": "code",
   "execution_count": 6,
   "id": "4d2032d6",
   "metadata": {},
   "outputs": [
    {
     "name": "stdout",
     "output_type": "stream",
     "text": [
      "{[]{()}} - Unbalanced\n",
      "[{}{}()] - Unbalanced\n",
      "((())) - Unbalanced\n"
     ]
    }
   ],
   "source": [
    "open_list=[\"[\",\"{\",\"(\"]\n",
    "close_list=[\"]\",\"}\",\")\"]\n",
    "def CheckParanthesis(myStr):\n",
    "    stack=[]\n",
    "    for i in myStr:\n",
    "        if i in open_list:\n",
    "            stack.append(1)\n",
    "        elif i in close_list:\n",
    "            pos=close_list.index(i)\n",
    "            if ((len(stack)>0) and (open_list[pos]==stack[len(stack)-1])):\n",
    "                stack.pop()\n",
    "            else:\n",
    "                return \"Unbalanced\"\n",
    "    if len(stack)==0:\n",
    "        return \"Balanced\"\n",
    "    else:\n",
    "        return \"Unbalanced\"\n",
    "string=\"{[]{()}}\"\n",
    "print(string,\"-\",CheckParanthesis(string))\n",
    "string=\"[{}{}()]\"\n",
    "print(string,\"-\",CheckParanthesis(string))\n",
    "string=\"((()))\"\n",
    "print(string,\"-\",CheckParanthesis(string))"
   ]
  },
  {
   "cell_type": "code",
   "execution_count": null,
   "id": "bdab26b3",
   "metadata": {},
   "outputs": [],
   "source": []
  }
 ],
 "metadata": {
  "kernelspec": {
   "display_name": "Python 3 (ipykernel)",
   "language": "python",
   "name": "python3"
  },
  "language_info": {
   "codemirror_mode": {
    "name": "ipython",
    "version": 3
   },
   "file_extension": ".py",
   "mimetype": "text/x-python",
   "name": "python",
   "nbconvert_exporter": "python",
   "pygments_lexer": "ipython3",
   "version": "3.11.5"
  }
 },
 "nbformat": 4,
 "nbformat_minor": 5
}
