{
 "cells": [
  {
   "cell_type": "code",
   "execution_count": 9,
   "id": "3f7bc32b",
   "metadata": {
    "scrolled": true
   },
   "outputs": [
    {
     "name": "stdout",
     "output_type": "stream",
     "text": [
      "Requirement already satisfied: binarytree in c:\\users\\pespt\\anaconda3\\lib\\site-packages (6.5.1)\n",
      "Requirement already satisfied: graphviz in c:\\users\\pespt\\anaconda3\\lib\\site-packages (from binarytree) (0.20.1)\n",
      "Requirement already satisfied: setuptools>=60.8.2 in c:\\users\\pespt\\anaconda3\\lib\\site-packages (from binarytree) (68.0.0)\n",
      "Requirement already satisfied: setuptools-scm[toml]>=5.0.1 in c:\\users\\pespt\\anaconda3\\lib\\site-packages (from binarytree) (8.0.4)\n",
      "Requirement already satisfied: packaging>=20 in c:\\users\\pespt\\anaconda3\\lib\\site-packages (from setuptools-scm[toml]>=5.0.1->binarytree) (23.1)\n",
      "Requirement already satisfied: typing-extensions in c:\\users\\pespt\\anaconda3\\lib\\site-packages (from setuptools-scm[toml]>=5.0.1->binarytree) (4.7.1)\n"
     ]
    }
   ],
   "source": [
    "!pip install binarytree"
   ]
  },
  {
   "cell_type": "code",
   "execution_count": 8,
   "id": "afc0eafc",
   "metadata": {
    "scrolled": true
   },
   "outputs": [
    {
     "name": "stdout",
     "output_type": "stream",
     "text": [
      "Binary Tree from List: \n",
      " \n",
      "    ___3\n",
      "   /    \\\n",
      "  6      8\n",
      " / \\      \\\n",
      "2   11     13\n",
      "\n",
      "\n",
      "List from Binary Tree:  [3, 6, 8, 2, 11, None, 13]\n"
     ]
    }
   ],
   "source": []
  },
  {
   "cell_type": "code",
   "execution_count": 13,
   "id": "6f0ad060",
   "metadata": {},
   "outputs": [
    {
     "name": "stdout",
     "output_type": "stream",
     "text": [
      "Given Graph is:  {'A': ['B', 'C', 'D', 'E', 'F'], 'D': ['A'], 'B': ['A', 'F', 'C'], 'F': ['B', 'A'], 'C': ['B'], 'E': ['A']}\n",
      "DFS Traversal Of Graph with source A is: \n",
      "A"
     ]
    }
   ],
   "source": [
    "graph={'A':['B','C','D','E','F'],'D':['A'],'B':['A','F','C'],'F':['B','A'],'C':['B'],'E':['A']}\n",
    "print(\"The Given Graph is: \",graph)\n",
    "def dfs_traversal (input_graph,source):\n",
    "    stack=list()\n",
    "    visited_list=list()\n",
    "    stack.append(source)\n",
    "    visited_list.append(source)\n",
    "    while stack:\n",
    "        vertex=stack.pop()\n",
    "        print(vertex,end=\"\")\n",
    "    for u in input_graph[vertex]:\n",
    "        if u not in visited_list:\n",
    "            stack.append(u)\n",
    "print(\"DFS Traversal Of Graph with source A is: \")\n",
    "dfs_traversal(graph,\"A\")"
   ]
  },
  {
   "cell_type": "code",
   "execution_count": 19,
   "id": "6ddafd54",
   "metadata": {},
   "outputs": [
    {
     "name": "stdout",
     "output_type": "stream",
     "text": [
      "The Given Graph is:  {'A': ['B', 'D', 'E', 'F'], 'D': ['A'], 'B': ['A', 'F', 'C'], 'F': ['B', 'A'], 'C': ['B'], 'E': ['A']}\n",
      "BFS Traversal of Graph with Source A is: \n",
      "ABDEFC"
     ]
    }
   ],
   "source": [
    "from queue import Queue\n",
    "graph={'A':['B','D','E','F'],'D':['A'],'B':['A','F','C'],'F':['B','A'],'C':['B'],'E':['A']}\n",
    "print(\"The Given Graph is: \",graph)\n",
    "def BFS(input,source):\n",
    "    Q=Queue()\n",
    "    visited_vertices=list()\n",
    "    Q.put(source)\n",
    "    visited_vertices.append(source)\n",
    "    while not Q.empty():\n",
    "        vertex=Q.get()\n",
    "        print(vertex,end=\"\")\n",
    "        for u in input[vertex]:\n",
    "            if u not in visited_vertices:\n",
    "                Q.put(u)\n",
    "                visited_vertices.append(u)   \n",
    "print(\"BFS Traversal of Graph with Source A is: \")\n",
    "BFS(graph,\"A\")"
   ]
  }
 ],
 "metadata": {
  "kernelspec": {
   "display_name": "Python 3 (ipykernel)",
   "language": "python",
   "name": "python3"
  },
  "language_info": {
   "codemirror_mode": {
    "name": "ipython",
    "version": 3
   },
   "file_extension": ".py",
   "mimetype": "text/x-python",
   "name": "python",
   "nbconvert_exporter": "python",
   "pygments_lexer": "ipython3",
   "version": "3.11.5"
  }
 },
 "nbformat": 4,
 "nbformat_minor": 5
}
